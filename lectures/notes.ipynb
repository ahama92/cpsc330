{
 "cells": [
  {
   "cell_type": "markdown",
   "id": "231e15e2-46da-4864-b32e-561778901fe7",
   "metadata": {},
   "source": [
    "### Notes\n",
    "\n",
    "When using a regression model, the maximum possible return value from .score(X,y) is 1. It can also have negative values.\n",
    "\n",
    "The top node in a decision tree is called the root.\n",
    "\n",
    "#### The following are for the train model.\n",
    "- Increasing the depth of the tree will increase the accuracy of the model.\n",
    "- Increasing the minimum number of samples needed to split on a feature will decrease the accuracy.\n",
    "- It's hard to predict the effect of both `max_depth` and `min_samples_split` at the same time.\n",
    "\n",
    "`.score()` is not calculated in the same way for regressions and classification problems.\n",
    "\n",
    "The same hyperparameters  from `DecisionTreeClassifier` can be used for `DecisionTreeRegressor()`."
   ]
  },
  {
   "cell_type": "code",
   "execution_count": null,
   "id": "1f2cc8f9-22b3-4e4a-9b06-4cd9b8f3990d",
   "metadata": {},
   "outputs": [],
   "source": []
  },
  {
   "cell_type": "code",
   "execution_count": null,
   "id": "abdc1403-1110-4e2d-8fd1-c848e7b7f431",
   "metadata": {},
   "outputs": [],
   "source": []
  }
 ],
 "metadata": {
  "kernelspec": {
   "display_name": "Python [conda env:cpsc330]",
   "language": "python",
   "name": "conda-env-cpsc330-py"
  },
  "language_info": {
   "codemirror_mode": {
    "name": "ipython",
    "version": 3
   },
   "file_extension": ".py",
   "mimetype": "text/x-python",
   "name": "python",
   "nbconvert_exporter": "python",
   "pygments_lexer": "ipython3",
   "version": "3.9.7"
  }
 },
 "nbformat": 4,
 "nbformat_minor": 5
}
